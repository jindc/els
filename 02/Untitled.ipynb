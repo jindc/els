{
 "cells": [
  {
   "cell_type": "code",
   "execution_count": 1,
   "metadata": {},
   "outputs": [],
   "source": [
    "import numpy as np\n",
    "from numpy import *\n",
    "from numpy import linalg\n",
    "from matplotlib import pyplot as plt\n",
    "from IPython.display import display"
   ]
  },
  {
   "cell_type": "code",
   "execution_count": null,
   "metadata": {},
   "outputs": [],
   "source": [
    "#figure 2.7\n",
    "def yfunc(sample_x):\n",
    "  return np.power( np.e,-8 * np.power(linalg.norm(sample_x,ord=2,axis=1),2))\n",
    "X = np.linspace(-1,1,500).reshape([-1,1])\n",
    "Y = yfunc(X)\n",
    "plt.plot(X,Y)"
   ]
  },
  {
   "cell_type": "code",
   "execution_count": 32,
   "metadata": {},
   "outputs": [
    {
     "data": {
      "text/plain": [
       "<matplotlib.collections.PathCollection at 0x7fa2690d7a90>"
      ]
     },
     "execution_count": 32,
     "metadata": {},
     "output_type": "execute_result"
    },
    {
     "data": {
      "image/png": "[encoded data removed]",
      "text/plain": [
       "<matplotlib.figure.Figure at 0x7fa2685d8310>"
      ]
     },
     "metadata": {},
     "output_type": "display_data"
    }
   ],
   "source": [
    "samples = np.random.rand(20,2)*2 -1\n",
    "plt.figure(figsize=(8,8))\n",
    "plt.scatter( samples[:,0],samples[:,1])"
   ]
  },
  {
   "cell_type": "code",
   "execution_count": 2,
   "metadata": {},
   "outputs": [
    {
     "data": {
      "image/png": "[encoded data removed]",
      "text/plain": [
       "<matplotlib.figure.Figure at 0x7f5ededd5128>"
      ]
     },
     "metadata": {},
     "output_type": "display_data"
    }
   ],
   "source": [
    "import numpy as np\n",
    "from numpy import *\n",
    "from numpy import linalg\n",
    "from matplotlib import pyplot as plt\n",
    "from IPython.display import display\n",
    "import math\n",
    "\n",
    "\n",
    "def get_k_nearest(X, Y, point_x):\n",
    "  dlist = [(X[i],Y[i],np.linalg.norm(np.array(X[i])-np.array(point_x),axis=1).tolist()[0]) for i in range(len(X)) ]\n",
    "  dlist.sort(key=lambda item:item[2])\n",
    "  #print( dlist)\n",
    "  return dlist[0]\n",
    "\n",
    "def yfunc(sample_x):\n",
    "  return np.power(np.e, -8 * np.power(linalg.norm(sample_x, ord=2, axis=1), 2))\n",
    "\n",
    "\n",
    "def get_distance(trainset_num, trainset_size, dim_list, k=1, predict_point=[0]):\n",
    "  ret = []\n",
    "  for dim in dim_list:\n",
    "    distances = []\n",
    "    predict_point_x = np.zeros([1, dim])\n",
    "    predict_point_y = 1.0\n",
    "\n",
    "    for i in range(trainset_num):\n",
    "      samples = np.random.rand(trainset_size, dim) * 2 - 1\n",
    "      real_values = yfunc(samples)\n",
    "      knearest = get_k_nearest(samples, real_values, predict_point_x)\n",
    "      distances.append(knearest[-1])\n",
    "\n",
    "    average_distance = math.fsum(distances) / len(distances)\n",
    "    ret.append(average_distance)\n",
    "  return ret\n",
    "\n",
    "def draw_distance():\n",
    "    dim_list = range(1,11)\n",
    "    distances = get_distance(50, 1000, dim_list, k=1)\n",
    "\n",
    "    plt.xlabel(\"Dimension\")\n",
    "    plt.ylabel(\"average distance for nearest neighbor\")\n",
    "    plt.title('Distance to 1-NN vs. Dimension')\n",
    "    plt.plot(dim_list, distances, 'ro--', )\n",
    "    dim_list, distances\n",
    "    plt.show()"
   ]
  },
  {
   "cell_type": "code",
   "execution_count": 1,
   "metadata": {},
   "outputs": [
    {
     "ename": "SyntaxError",
     "evalue": "EOL while scanning string literal (<ipython-input-1-8dfa07036f14>, line 22)",
     "traceback": [
      "\u001b[0;36m  File \u001b[0;32m\"<ipython-input-1-8dfa07036f14>\"\u001b[0;36m, line \u001b[0;32m22\u001b[0m\n\u001b[0;31m    plt.ylabel(\"Mse)\u001b[0m\n\u001b[0m                    ^\u001b[0m\n\u001b[0;31mSyntaxError\u001b[0m\u001b[0;31m:\u001b[0m EOL while scanning string literal\n"
     ],
     "output_type": "error"
    }
   ],
   "source": [
    "IPython.Cell.options_default.cm_config.indentUnit = 2;\n",
    "def get_gap(trainset_num, trainset_size, dim_list, k=1, predict_point=[0]):\n",
    "  ret = []\n",
    "  for dim in dim_list:\n",
    "    distances = []\n",
    "    predict_point_x = np.zeros([1, dim])\n",
    "    predict_point_y = 1.0\n",
    "\n",
    "    for i in range(trainset_num):\n",
    "      samples = np.random.rand(trainset_size, dim) * 2 - 1\n",
    "      real_values = yfunc(samples)\n",
    "      knearest = get_k_nearest(samples, real_values, predict_point_x)\n",
    "      distances.append(knearest[-1])\n",
    "\n",
    "    average_distance = math.fsum(distances) / len(distances)\n",
    "    ret.append(average_distance)\n",
    "  return ret\n",
    "\n",
    "mse,variance,sqbias= get_gap(50, 1000, dim_list, k=1)\n",
    "\n",
    "plt.xlabel(\"Dimension\")\n",
    "plt.ylabel(\"Mse)\n",
    "plt.title('MSE vs. Dimension')\n",
    "           \n",
    "plt.plot(dim_list, mse, 'ro--', label=\"MSE\")\n",
    "dim_list, distances\n",
    "plt.show()"
   ]
  },
  {
   "cell_type": "code",
   "execution_count": 7,
   "metadata": {},
   "outputs": [
    {
     "data": {
      "text/plain": [
       "0.201601"
      ]
     },
     "execution_count": 7,
     "metadata": {},
     "output_type": "execute_result"
    }
   ],
   "source": [
    "import numpy as np\n",
    "from numpy import *\n",
    "from numpy import linalg\n",
    "from matplotlib import pyplot as plt\n",
    "from IPython.display import display\n",
    "import math\n",
    "a = np.array([[1,2],[3,4]])\n",
    "math.pow(0.449,2)"
   ]
  }
 ],
 "metadata": {
  "kernelspec": {
   "display_name": "Python 3",
   "language": "python",
   "name": "python3"
  },
  "language_info": {
   "codemirror_mode": {
    "name": "ipython",
    "version": 3.0
   },
   "file_extension": ".py",
   "mimetype": "text/x-python",
   "name": "python",
   "nbconvert_exporter": "python",
   "pygments_lexer": "ipython3",
   "version": "3.6.4"
  }
 },
 "nbformat": 4,
 "nbformat_minor": 0
}